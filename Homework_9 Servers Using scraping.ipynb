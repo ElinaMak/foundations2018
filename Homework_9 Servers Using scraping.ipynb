{
 "cells": [
  {
   "cell_type": "markdown",
   "metadata": {},
   "source": [
    "Scrape the front page of Associated Press and send yourself an email with as much info as possible (title, a url etc). Save this as a CSV and send it as an attachment to your email address. "
   ]
  },
  {
   "cell_type": "code",
   "execution_count": 1,
   "metadata": {},
   "outputs": [],
   "source": [
    "from selenium import webdriver\n",
    "from selenium.webdriver.common.keys import Keys\n",
    "from selenium.webdriver.support.ui import Select\n",
    "from selenium.webdriver.support.ui import WebDriverWait"
   ]
  },
  {
   "cell_type": "code",
   "execution_count": null,
   "metadata": {},
   "outputs": [],
   "source": [
    "# enable it when I work / uploaded to the server\n",
    "from pyvirtualdisplay import Display\n",
    "\n",
    "display = Display(visible=0, size=(800, 600))\n",
    "display.start()\n",
    "\n",
    "options = webdriver.ChromeOptions()\n",
    "options.add_argument('--no-sandbox')\n",
    "\n",
    "driver = webdriver.Chrome(chrome_options=options)"
   ]
  },
  {
   "cell_type": "code",
   "execution_count": 2,
   "metadata": {},
   "outputs": [],
   "source": [
    "#enable while working on my computer\n",
    "driver = webdriver.Chrome()\n"
   ]
  },
  {
   "cell_type": "code",
   "execution_count": 3,
   "metadata": {},
   "outputs": [],
   "source": [
    "driver.get('https://www.ap.org/en-us/')"
   ]
  },
  {
   "cell_type": "markdown",
   "metadata": {},
   "source": [
    "# Scrape information from the 1st page."
   ]
  },
  {
   "cell_type": "code",
   "execution_count": 15,
   "metadata": {},
   "outputs": [
    {
     "data": {
      "text/plain": [
       "'Where stories begin'"
      ]
     },
     "execution_count": 15,
     "metadata": {},
     "output_type": "execute_result"
    }
   ],
   "source": [
    "# 1. Title: Where stories begin\n",
    "driver.find_element_by_class_name(\"c-h1xxx\").text"
   ]
  },
  {
   "cell_type": "code",
   "execution_count": 7,
   "metadata": {
    "scrolled": true
   },
   "outputs": [
    {
     "name": "stdout",
     "output_type": "stream",
     "text": [
      "Where stories begin\n"
     ]
    }
   ],
   "source": [
    "print(driver.find_element_by_tag_name('h1').text)"
   ]
  },
  {
   "cell_type": "code",
   "execution_count": 9,
   "metadata": {},
   "outputs": [
    {
     "data": {
      "text/plain": [
       "<selenium.webdriver.remote.webelement.WebElement (session=\"efacca43e841a812808f5599fe57bcce\", element=\"0.6419125057636261-2\")>"
      ]
     },
     "execution_count": 9,
     "metadata": {},
     "output_type": "execute_result"
    }
   ],
   "source": [
    "# 2. SUBTITLE: Our unparalleled newsgathering helps you inform the world\n",
    "driver.find_element_by_tag_name('h2')"
   ]
  },
  {
   "cell_type": "code",
   "execution_count": 10,
   "metadata": {},
   "outputs": [
    {
     "name": "stdout",
     "output_type": "stream",
     "text": [
      "Our unparalleled newsgathering helps you inform the world\n"
     ]
    }
   ],
   "source": [
    "print(driver.find_element_by_tag_name('h2').text)"
   ]
  },
  {
   "cell_type": "code",
   "execution_count": 11,
   "metadata": {},
   "outputs": [],
   "source": [
    "#check why the following didn't work: driver.find_element_by_xpath('/html/body/main/div[2]/div/div/div/div/div/h2')"
   ]
  },
  {
   "cell_type": "code",
   "execution_count": 23,
   "metadata": {},
   "outputs": [
    {
     "data": {
      "text/plain": [
       "\"The Latest: First lady urged Trump to keep families together\\nTrump says he'll be 'signing something' on detained children\\nThe Latest: GOP lawmakers headed to WH on immigration\""
      ]
     },
     "execution_count": 23,
     "metadata": {},
     "output_type": "execute_result"
    }
   ],
   "source": [
    "# 3. Scrape the content from the articles that renew from \"Latest news from AP\n",
    "driver.find_element_by_class_name('c-ticker__main').text\n",
    "#xpath: \" /html/body/main/div[2]/div/div/div/div/div/div/div[1]/section/div[2]"
   ]
  },
  {
   "cell_type": "code",
   "execution_count": 28,
   "metadata": {},
   "outputs": [
    {
     "data": {
      "text/plain": [
       "[<selenium.webdriver.remote.webelement.WebElement (session=\"efacca43e841a812808f5599fe57bcce\", element=\"0.6419125057636261-4\")>,\n",
       " <selenium.webdriver.remote.webelement.WebElement (session=\"efacca43e841a812808f5599fe57bcce\", element=\"0.6419125057636261-5\")>]"
      ]
     },
     "execution_count": 28,
     "metadata": {},
     "output_type": "execute_result"
    }
   ],
   "source": [
    "# 4. Latest news from AP (changing \"banner with latest news\") \n",
    "driver.find_elements_by_class_name(\"js-marquee\")"
   ]
  },
  {
   "cell_type": "code",
   "execution_count": 37,
   "metadata": {},
   "outputs": [
    {
     "data": {
      "text/plain": [
       "'The Latest: GOP lawmakers headed to WH on immigration\\nAPNewsBreak: At least 3 shelters set up for child migrants'"
      ]
     },
     "execution_count": 37,
     "metadata": {},
     "output_type": "execute_result"
    }
   ],
   "source": [
    "# 4. Latest news from AP (changing \"banner with latest news\") \n",
    "driver.find_elements_by_class_name(\"js-marquee\")[0].text"
   ]
  },
  {
   "cell_type": "code",
   "execution_count": 48,
   "metadata": {},
   "outputs": [
    {
     "data": {
      "text/plain": [
       "'The Latest: First lady urged Trump to keep families together'"
      ]
     },
     "execution_count": 48,
     "metadata": {},
     "output_type": "execute_result"
    }
   ],
   "source": [
    "# 4b. Latest news from AP (changing \"banner with latest news\") \n",
    "driver.find_elements_by_class_name(\"js-marquee\")[1].text"
   ]
  },
  {
   "cell_type": "code",
   "execution_count": 50,
   "metadata": {},
   "outputs": [
    {
     "data": {
      "text/plain": [
       "[<selenium.webdriver.remote.webelement.WebElement (session=\"efacca43e841a812808f5599fe57bcce\", element=\"0.6419125057636261-6\")>,\n",
       " <selenium.webdriver.remote.webelement.WebElement (session=\"efacca43e841a812808f5599fe57bcce\", element=\"0.6419125057636261-12\")>,\n",
       " <selenium.webdriver.remote.webelement.WebElement (session=\"efacca43e841a812808f5599fe57bcce\", element=\"0.6419125057636261-13\")>,\n",
       " <selenium.webdriver.remote.webelement.WebElement (session=\"efacca43e841a812808f5599fe57bcce\", element=\"0.6419125057636261-14\")>,\n",
       " <selenium.webdriver.remote.webelement.WebElement (session=\"efacca43e841a812808f5599fe57bcce\", element=\"0.6419125057636261-15\")>,\n",
       " <selenium.webdriver.remote.webelement.WebElement (session=\"efacca43e841a812808f5599fe57bcce\", element=\"0.6419125057636261-16\")>,\n",
       " <selenium.webdriver.remote.webelement.WebElement (session=\"efacca43e841a812808f5599fe57bcce\", element=\"0.6419125057636261-17\")>,\n",
       " <selenium.webdriver.remote.webelement.WebElement (session=\"efacca43e841a812808f5599fe57bcce\", element=\"0.6419125057636261-18\")>,\n",
       " <selenium.webdriver.remote.webelement.WebElement (session=\"efacca43e841a812808f5599fe57bcce\", element=\"0.6419125057636261-19\")>,\n",
       " <selenium.webdriver.remote.webelement.WebElement (session=\"efacca43e841a812808f5599fe57bcce\", element=\"0.6419125057636261-20\")>,\n",
       " <selenium.webdriver.remote.webelement.WebElement (session=\"efacca43e841a812808f5599fe57bcce\", element=\"0.6419125057636261-21\")>,\n",
       " <selenium.webdriver.remote.webelement.WebElement (session=\"efacca43e841a812808f5599fe57bcce\", element=\"0.6419125057636261-22\")>,\n",
       " <selenium.webdriver.remote.webelement.WebElement (session=\"efacca43e841a812808f5599fe57bcce\", element=\"0.6419125057636261-23\")>,\n",
       " <selenium.webdriver.remote.webelement.WebElement (session=\"efacca43e841a812808f5599fe57bcce\", element=\"0.6419125057636261-24\")>,\n",
       " <selenium.webdriver.remote.webelement.WebElement (session=\"efacca43e841a812808f5599fe57bcce\", element=\"0.6419125057636261-25\")>,\n",
       " <selenium.webdriver.remote.webelement.WebElement (session=\"efacca43e841a812808f5599fe57bcce\", element=\"0.6419125057636261-26\")>,\n",
       " <selenium.webdriver.remote.webelement.WebElement (session=\"efacca43e841a812808f5599fe57bcce\", element=\"0.6419125057636261-27\")>,\n",
       " <selenium.webdriver.remote.webelement.WebElement (session=\"efacca43e841a812808f5599fe57bcce\", element=\"0.6419125057636261-28\")>,\n",
       " <selenium.webdriver.remote.webelement.WebElement (session=\"efacca43e841a812808f5599fe57bcce\", element=\"0.6419125057636261-29\")>,\n",
       " <selenium.webdriver.remote.webelement.WebElement (session=\"efacca43e841a812808f5599fe57bcce\", element=\"0.6419125057636261-30\")>,\n",
       " <selenium.webdriver.remote.webelement.WebElement (session=\"efacca43e841a812808f5599fe57bcce\", element=\"0.6419125057636261-31\")>]"
      ]
     },
     "execution_count": 50,
     "metadata": {},
     "output_type": "execute_result"
    }
   ],
   "source": [
    "# 5. Another article\n",
    "driver.find_elements_by_class_name(\"u-black\")"
   ]
  },
  {
   "cell_type": "code",
   "execution_count": 61,
   "metadata": {},
   "outputs": [
    {
     "data": {
      "text/plain": [
       "'APNewsBreak: At least 3 shelters set up for child migrants'"
      ]
     },
     "execution_count": 61,
     "metadata": {},
     "output_type": "execute_result"
    }
   ],
   "source": [
    "driver.find_elements_by_class_name(\"c-label\")[3].text"
   ]
  },
  {
   "cell_type": "code",
   "execution_count": 39,
   "metadata": {},
   "outputs": [
    {
     "data": {
      "text/plain": [
       "'The Latest: First lady urged Trump to keep families together'"
      ]
     },
     "execution_count": 39,
     "metadata": {},
     "output_type": "execute_result"
    }
   ],
   "source": [
    "# 6. Article \"AP explains: US has split up families throughout its history.\"\n",
    "# copied by element: <a href=\"https://www.apnews.com/375da2b8b1554418a8edad1dd383d707\" target=\"_blank\" class=\"u-black\">AP Explains: US has split up families throughout its history</a>\n",
    "# x_path: /html/body/main/div[2]/div/div/div/div/div/div/div[1]/section/div[2]/div/div[2]/article[1]/a\n",
    "driver.find_element_by_class_name(\"u-black\").text"
   ]
  },
  {
   "cell_type": "code",
   "execution_count": 44,
   "metadata": {},
   "outputs": [
    {
     "data": {
      "text/plain": [
       "[<selenium.webdriver.remote.webelement.WebElement (session=\"efacca43e841a812808f5599fe57bcce\", element=\"0.6419125057636261-7\")>,\n",
       " <selenium.webdriver.remote.webelement.WebElement (session=\"efacca43e841a812808f5599fe57bcce\", element=\"0.6419125057636261-8\")>,\n",
       " <selenium.webdriver.remote.webelement.WebElement (session=\"efacca43e841a812808f5599fe57bcce\", element=\"0.6419125057636261-9\")>,\n",
       " <selenium.webdriver.remote.webelement.WebElement (session=\"efacca43e841a812808f5599fe57bcce\", element=\"0.6419125057636261-10\")>,\n",
       " <selenium.webdriver.remote.webelement.WebElement (session=\"efacca43e841a812808f5599fe57bcce\", element=\"0.6419125057636261-11\")>]"
      ]
     },
     "execution_count": 44,
     "metadata": {},
     "output_type": "execute_result"
    }
   ],
   "source": [
    "# 7. More articles \"AP explains: US has split up families throughout its history.\" class=\"c-section__main\"\n",
    "driver.find_elements_by_class_name(\"c-section__main\")"
   ]
  },
  {
   "cell_type": "code",
   "execution_count": 45,
   "metadata": {},
   "outputs": [
    {
     "data": {
      "text/plain": [
       "'2,000\\nSTORIES EVERY DAY\\n1 million\\nPHOTOS PER YEAR\\n70,000\\nVIDEOS PER YEAR\\n1.7 million\\nVIDEO CLIPS IN ARCHIVE'"
      ]
     },
     "execution_count": 45,
     "metadata": {},
     "output_type": "execute_result"
    }
   ],
   "source": [
    "driver.find_elements_by_class_name(\"c-section__main\")[0].text"
   ]
  },
  {
   "cell_type": "code",
   "execution_count": null,
   "metadata": {},
   "outputs": [],
   "source": [
    "# I want to create a list with each scraped article will be a dictionary for each article in order to do the csv I will use as attachment to the email.\n",
    "#import pandas as pd\n",
    "#df = pd.read_csv(\"ap_data.csv\")\n",
    "#df\n",
    "\n",
    "#didn't work on this properly as I realized it would have been better to scrape other parts of the AP page for this assignment.\n",
    "#but I do go over the code ('using cron jobs for repeating tasks'). \n",
    "\n",
    "stories = driver.find_all(\"article\", { 'class': 'story' })\n",
    "\n",
    "ap_stories = []\n",
    "# Grab headlines and bylines\n",
    "for story in stories:\n",
    "    # Grab all of the h's inside of the story\n",
    "    headline1 = story.find('h1', {'class': 'story-heading'})\n",
    "    headline1 = story.find('h2', {'class': 'story-heading'})\n",
    "    # If a headline exists, then process the rest!\n",
    "    if headline:\n",
    "        # They're COVERED in whitespace\n",
    "        headline_text = headline.text.strip()\n",
    "        # Make a dictionary with the headline\n",
    "        this_story = { 'headline': headline_text }\n",
    "        byline = story.find('p', {'class': 'byline'})\n",
    "        # Not all of them have a byline\n",
    "        if byline:\n",
    "            byline_text = byline.text.strip()\n",
    "            this_story['byline'] = byline_text\n",
    "        all_stories.append(this_story)\n",
    "\n"
   ]
  },
  {
   "cell_type": "code",
   "execution_count": null,
   "metadata": {},
   "outputs": [],
   "source": [
    "all_stories"
   ]
  },
  {
   "cell_type": "code",
   "execution_count": null,
   "metadata": {},
   "outputs": [],
   "source": [
    "stories_df = pd.DataFrame(all_stories)\n",
    "stories_df.to_csv(\"ap-data.csv\")"
   ]
  },
  {
   "cell_type": "code",
   "execution_count": null,
   "metadata": {},
   "outputs": [],
   "source": [
    "# not finalized yet\n",
    "datestring = time.strftime(\"%Y-%m-%d-%H-%M\")"
   ]
  },
  {
   "cell_type": "code",
   "execution_count": null,
   "metadata": {},
   "outputs": [],
   "source": [
    "filename = \"ap-data-\" + datestring + \".csv\"\n",
    "stories_df.to_csv(filename, index=False)"
   ]
  }
 ],
 "metadata": {
  "kernelspec": {
   "display_name": "Python 3",
   "language": "python",
   "name": "python3"
  },
  "language_info": {
   "codemirror_mode": {
    "name": "ipython",
    "version": 3
   },
   "file_extension": ".py",
   "mimetype": "text/x-python",
   "name": "python",
   "nbconvert_exporter": "python",
   "pygments_lexer": "ipython3",
   "version": "3.6.5"
  }
 },
 "nbformat": 4,
 "nbformat_minor": 2
}
